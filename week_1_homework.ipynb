{
 "cells": [
  {
   "cell_type": "code",
   "execution_count": 2,
   "metadata": {},
   "outputs": [
    {
     "name": "stdout",
     "output_type": "stream",
     "text": [
      "89.0\n",
      "0.0\n",
      "978.33\n"
     ]
    }
   ],
   "source": [
    "def return_float(some_num):\n",
    "    new = float(some_num)\n",
    "    return new\n",
    "\n",
    "print(return_float(89))\n",
    "print(return_float(False))\n",
    "print(return_float(978.33))"
   ]
  },
  {
   "cell_type": "code",
   "execution_count": 5,
   "metadata": {},
   "outputs": [
    {
     "name": "stdout",
     "output_type": "stream",
     "text": [
      "True\n",
      "False\n",
      "False\n"
     ]
    }
   ],
   "source": [
    "def return_bool(some_num):\n",
    "    tf = bool(some_num)\n",
    "    return tf\n",
    "\n",
    "print(return_bool(-42))\n",
    "print(return_bool(False))\n",
    "print(return_bool(None))"
   ]
  },
  {
   "cell_type": "code",
   "execution_count": 11,
   "metadata": {},
   "outputs": [
    {
     "name": "stdout",
     "output_type": "stream",
     "text": [
      "<class 'int'>\n",
      "<class 'str'>\n",
      "<class 'list'>\n"
     ]
    }
   ],
   "source": [
    "def return_type(data):\n",
    "    thing = type(data)\n",
    "    return str(thing)\n",
    "\n",
    "# write your own function calls to check the outcome\n",
    "print(return_type(69))\n",
    "print(return_type('string'))\n",
    "print(return_type([]))\n",
    "\n",
    "# what's the cast str() thing?"
   ]
  },
  {
   "cell_type": "code",
   "execution_count": 21,
   "metadata": {},
   "outputs": [
    {
     "name": "stdout",
     "output_type": "stream",
     "text": [
      "2\n",
      "1000\n",
      "-5\n"
     ]
    }
   ],
   "source": [
    "def round_up(some_num):\n",
    "    whole = round(some_num)\n",
    "    if whole < some_num:\n",
    "        whole += 1\n",
    "        return whole\n",
    "    else:\n",
    "        return whole\n",
    "\n",
    "# write your own function calls to check the outcome\n",
    "print(round_up(1.2))\n",
    "print(round_up(999.99))\n",
    "print(round_up(-5.7))\n"
   ]
  },
  {
   "cell_type": "code",
   "execution_count": 26,
   "metadata": {},
   "outputs": [
    {
     "name": "stdout",
     "output_type": "stream",
     "text": [
      "True\n",
      "False\n",
      "True\n"
     ]
    }
   ],
   "source": [
    "def square_divisible_by_6(some_int):\n",
    "    if some_int**2 % 6 == 0:\n",
    "        return True\n",
    "    else:\n",
    "        return False\n",
    "\n",
    "# write your own function calls to check the outcome\n",
    "print(square_divisible_by_6(6))\n",
    "print(square_divisible_by_6(7))\n",
    "print(square_divisible_by_6(-36))"
   ]
  },
  {
   "cell_type": "code",
   "execution_count": 30,
   "metadata": {},
   "outputs": [
    {
     "name": "stdout",
     "output_type": "stream",
     "text": [
      "True\n",
      "False\n",
      "True\n"
     ]
    }
   ],
   "source": [
    "def square_divisible_by_n(some_int, divisor):\n",
    "    if some_int**2 % divisor == 0:\n",
    "        return True\n",
    "    else:\n",
    "        return False\n",
    "\n",
    "print(square_divisible_by_n(12, 4))\n",
    "print(square_divisible_by_n(403, 2))\n",
    "print(square_divisible_by_n(-10, 4))"
   ]
  },
  {
   "cell_type": "code",
   "execution_count": 39,
   "metadata": {},
   "outputs": [
    {
     "name": "stdout",
     "output_type": "stream",
     "text": [
      "5\n",
      "43364\n",
      "0\n"
     ]
    }
   ],
   "source": [
    "def calc_fourth_order_polyn(A, B, C, D, E, x):\n",
    "    expanded = A*(x**4) + B*(x**3) + C*(x**2) + D*(x) + E\n",
    "    return expanded\n",
    "\n",
    "print(calc_fourth_order_polyn(1, 1, 1, 1, 1, 1))\n",
    "print(calc_fourth_order_polyn(6, 5, 4, 3, 2, 9))\n",
    "print(calc_fourth_order_polyn(0, 0, 0, 0, 0, 0))"
   ]
  },
  {
   "cell_type": "code",
   "execution_count": 47,
   "metadata": {},
   "outputs": [
    {
     "name": "stdout",
     "output_type": "stream",
     "text": [
      "Enter your favorite number (between 0 and 100): 4\n",
      "Message 1\n"
     ]
    }
   ],
   "source": [
    "def discuss_favorite_number():\n",
    "    num = int(input('Enter your favorite number (between 0 and 100): '))\n",
    "    # write your code below\n",
    "    if num < 25:\n",
    "        print(\"Message 1\")\n",
    "    elif 25 < num < 50:\n",
    "        print(\"Message 2\")\n",
    "    elif 50 < num < 75:\n",
    "        print(\"Message 3\")\n",
    "    elif 75 < num < 50:\n",
    "        print(\"Message 4\")\n",
    "    else:\n",
    "        print(\"Follow the rules jackass...\")\n",
    "        \n",
    "discuss_favorite_number()"
   ]
  },
  {
   "cell_type": "code",
   "execution_count": 62,
   "metadata": {},
   "outputs": [
    {
     "name": "stdout",
     "output_type": "stream",
     "text": [
      "\n",
      "            Select a Department:\n",
      "            (1) Shipping and Receiving\n",
      "            (2) Customer Service\n",
      "            (3) Human Resources\n",
      "            (4) IT\n",
      "           2\n",
      "Customer Service: (222) 222-2222\n"
     ]
    }
   ],
   "source": [
    "def select_department():\n",
    "    menu = '''\n",
    "            Select a Department:\n",
    "            (1) Shipping and Receiving\n",
    "            (2) Customer Service\n",
    "            (3) Human Resources\n",
    "            (4) IT\n",
    "           '''\n",
    "\n",
    "    selection = int(input(menu))\n",
    "    # write your code below\n",
    "    if selection == 1:\n",
    "        print('Shipping and Receiving: (111) 111-1111')\n",
    "    elif selection == 2:\n",
    "        print('Customer Service: (222) 222-2222')\n",
    "    elif selection == 3:\n",
    "        print('Human Resources: (333) 333-3333')\n",
    "    elif selection == 4:\n",
    "        print('IT: (444) 444-4444')\n",
    "    else:\n",
    "        print(\"Erroneous Choice\")\n",
    "\n",
    "select_department()"
   ]
  },
  {
   "cell_type": "code",
   "execution_count": 68,
   "metadata": {},
   "outputs": [
    {
     "data": {
      "text/plain": [
       "103"
      ]
     },
     "execution_count": 68,
     "metadata": {},
     "output_type": "execute_result"
    }
   ],
   "source": [
    "user_list = [5, 9, 100, 17, -3]\n",
    "\n",
    "def get_range_from_list(whatever):\n",
    "    list_range = max(whatever) - min(whatever)\n",
    "    return list_range\n",
    "    \n",
    "get_range_from_list(user_list)"
   ]
  },
  {
   "cell_type": "code",
   "execution_count": 71,
   "metadata": {},
   "outputs": [
    {
     "data": {
      "text/plain": [
       "53.5"
      ]
     },
     "execution_count": 71,
     "metadata": {},
     "output_type": "execute_result"
    }
   ],
   "source": [
    "user_list = [5, 9, 99, 101]\n",
    "\n",
    "def get_mean_of_list(in_list):\n",
    "    mean = sum(user_list) / len(user_list)\n",
    "    return mean\n",
    "\n",
    "get_mean_of_list(user_list)"
   ]
  },
  {
   "cell_type": "code",
   "execution_count": 92,
   "metadata": {},
   "outputs": [
    {
     "name": "stdout",
     "output_type": "stream",
     "text": [
      "[-16, 1, 49]\n"
     ]
    },
    {
     "data": {
      "text/plain": [
       "1"
      ]
     },
     "execution_count": 92,
     "metadata": {},
     "output_type": "execute_result"
    }
   ],
   "source": [
    "user_list = [1, 49, -16]\n",
    "\n",
    "def get_median_of_list(in_list):\n",
    "    in_list.sort()\n",
    "    print(in_list)\n",
    "    n = len(in_list)\n",
    "    middle = int((n + 1)/2 - 1)\n",
    "    \n",
    "    if n % 2 == 0:\n",
    "        median = (in_list[middle + 1] + in_list[middle]) / 2\n",
    "        return median\n",
    "    \n",
    "    else:\n",
    "        median = in_list[middle]\n",
    "        return median\n",
    "\n",
    "get_median_of_list(user_list)"
   ]
  },
  {
   "cell_type": "code",
   "execution_count": null,
   "metadata": {},
   "outputs": [],
   "source": [
    "# Write a function called get_below_median_avg that takes a list and returns the median of the values \n",
    "# in that list that are below the median. Do not include the median value in your calculation.\n",
    "\n",
    "user_list = [1, 49, -16]\n",
    "\n",
    "def get_below_median_avg(in_list):\n",
    "    in_list.sort()\n",
    "    print(in_list)\n",
    "    n = len(in_list)\n",
    "    middle = int((n + 1)/2 - 1)\n",
    "    \n",
    "    if n % 2 == 0:\n",
    "        median = (in_list[middle + 1] + in_list[middle]) / 2\n",
    "        return median\n",
    "    \n",
    "    else:\n",
    "        median = in_list[middle]\n",
    "        return median\n",
    "\n",
    "get_median_of_list(user_list)"
   ]
  }
 ],
 "metadata": {
  "kernelspec": {
   "display_name": "Python 3",
   "language": "python",
   "name": "python3"
  }
 },
 "nbformat": 4,
 "nbformat_minor": 2
}
